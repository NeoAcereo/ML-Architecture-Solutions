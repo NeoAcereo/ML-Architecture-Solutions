{
 "cells": [
  {
   "cell_type": "code",
   "execution_count": 1,
   "id": "694c6eac",
   "metadata": {},
   "outputs": [
    {
     "name": "stdout",
     "output_type": "stream",
     "text": [
      "     A    B    C\n",
      "0  1.0  2.0  NaN\n",
      "1  NaN  2.0  NaN\n",
      "2  3.0  NaN  NaN\n",
      "3  NaN  3.0  8.0\n",
      "4  5.0  3.0  NaN \n",
      "\n",
      "A    2\n",
      "B    1\n",
      "C    4\n",
      "dtype: int64\n"
     ]
    }
   ],
   "source": [
    "import pandas as pd\n",
    "import numpy as np\n",
    "data = pd.DataFrame([[1,2,np.nan],[np.nan,2,np.nan],\n",
    "                     [3,np.nan,np.nan],[np.nan,3,8],\n",
    "                     [5,3,np.nan]],columns=['A','B','C'])\n",
    "print(data,'\\n')\n",
    "\n",
    "\n",
    "# NaN-value count for each feature\n",
    "print(data.isnull().sum(axis=0)) "
   ]
  },
  {
   "cell_type": "code",
   "execution_count": 2,
   "id": "8fce238e",
   "metadata": {},
   "outputs": [],
   "source": [
    "# C is drop since at has most of its values missing\n",
    "data.drop('C', axis=1, inplace=True)"
   ]
  },
  {
   "cell_type": "code",
   "execution_count": 3,
   "id": "3e7befe2",
   "metadata": {},
   "outputs": [],
   "source": [
    "# missing values replaced with mean since it has no order\n",
    "data['missing_B'] = data['B'].isnull().astype(int)\n",
    "data['B'].fillna(data['B'].mean(), inplace=True)"
   ]
  },
  {
   "cell_type": "code",
   "execution_count": 4,
   "id": "e75d2e2e",
   "metadata": {},
   "outputs": [],
   "source": [
    "# missing values replaced by interpolation since values are sequential\n",
    "data['A'].interpolate(method='linear', inplace=True)"
   ]
  },
  {
   "cell_type": "code",
   "execution_count": 5,
   "id": "a3307c9a",
   "metadata": {},
   "outputs": [
    {
     "name": "stdout",
     "output_type": "stream",
     "text": [
      "     A    B  missing_B\n",
      "0  1.0  2.0          0\n",
      "1  2.0  2.0          0\n",
      "2  3.0  2.5          1\n",
      "3  4.0  3.0          0\n",
      "4  5.0  3.0          0\n"
     ]
    }
   ],
   "source": [
    "print(data)"
   ]
  },
  {
   "cell_type": "code",
   "execution_count": 6,
   "id": "fe39e614",
   "metadata": {},
   "outputs": [
    {
     "name": "stdout",
     "output_type": "stream",
     "text": [
      "     A    B  missing_B\n",
      "0  1.0  2.0          0\n",
      "1  2.0  2.0          0\n",
      "2  3.0  2.0          1\n",
      "3  4.0  3.0          0\n",
      "4  5.0  3.0          0\n"
     ]
    }
   ],
   "source": [
    "data = pd.DataFrame([[1,2,np.nan],[np.nan,2,np.nan],\n",
    "                     [3,np.nan,np.nan],[np.nan,3,8],\n",
    "                     [5,3,np.nan]],columns=['A','B','C'])\n",
    "data.drop('C', axis=1, inplace=True)\n",
    "data['missing_B'] = data['B'].isnull().astype(int)\n",
    "data['A'].interpolate(method='linear', inplace=True)\n",
    "# Here we handle feature B using a mode instead of an average\n",
    "data['B'].fillna(data['B'].mode().iloc[0], inplace=True)\n",
    "print(data)"
   ]
  },
  {
   "cell_type": "code",
   "execution_count": null,
   "id": "738707b9",
   "metadata": {},
   "outputs": [],
   "source": []
  }
 ],
 "metadata": {
  "kernelspec": {
   "display_name": "Python 3 (ipykernel)",
   "language": "python",
   "name": "python3"
  },
  "language_info": {
   "codemirror_mode": {
    "name": "ipython",
    "version": 3
   },
   "file_extension": ".py",
   "mimetype": "text/x-python",
   "name": "python",
   "nbconvert_exporter": "python",
   "pygments_lexer": "ipython3",
   "version": "3.9.12"
  }
 },
 "nbformat": 4,
 "nbformat_minor": 5
}
