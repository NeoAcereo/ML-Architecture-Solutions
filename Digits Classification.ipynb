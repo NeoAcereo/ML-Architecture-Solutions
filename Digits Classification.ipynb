{
 "cells": [
  {
   "cell_type": "code",
   "execution_count": 1,
   "id": "3db357f9",
   "metadata": {},
   "outputs": [],
   "source": [
    "import numpy as np\n",
    "from sklearn.datasets import load_digits"
   ]
  },
  {
   "cell_type": "code",
   "execution_count": 2,
   "id": "a013e6bd",
   "metadata": {},
   "outputs": [],
   "source": [
    "digits = load_digits()\n",
    "features, target = digits.data, digits.target"
   ]
  },
  {
   "cell_type": "code",
   "execution_count": 4,
   "id": "d2ecfd9e",
   "metadata": {},
   "outputs": [],
   "source": [
    "from sklearn.model_selection import train_test_split\n",
    "\n",
    "features_train, features_test, target_train, target_test = train_test_split(features, target,\n",
    "                                             test_size=0.2, random_state=42)\n",
    "\n"
   ]
  },
  {
   "cell_type": "code",
   "execution_count": 5,
   "id": "6578185a",
   "metadata": {},
   "outputs": [],
   "source": [
    "from sklearn.svm import SVC\n",
    "from sklearn.pipeline import make_pipeline\n",
    "from sklearn.preprocessing import MinMaxScaler\n",
    "\n",
    "\n",
    "svm_pipeline = make_pipeline(MinMaxScaler(feature_range=(0,1)), SVC())\n"
   ]
  },
  {
   "cell_type": "code",
   "execution_count": 6,
   "id": "4fe44776",
   "metadata": {},
   "outputs": [
    {
     "data": {
      "text/plain": [
       "<bound method Pipeline.get_params of Pipeline(steps=[('minmaxscaler', MinMaxScaler()), ('svc', SVC())])>"
      ]
     },
     "execution_count": 6,
     "metadata": {},
     "output_type": "execute_result"
    }
   ],
   "source": [
    "svm_pipeline.get_params"
   ]
  },
  {
   "cell_type": "code",
   "execution_count": 7,
   "id": "f8643ffa",
   "metadata": {},
   "outputs": [
    {
     "name": "stdout",
     "output_type": "stream",
     "text": [
      "The cross-validation accuracy is: 0.9861\n",
      "The test accuracy is: 0.9833\n"
     ]
    }
   ],
   "source": [
    "from sklearn.model_selection import cross_val_score\n",
    "\n",
    "cv_accuracy = cross_val_score(estimator=svm_pipeline, X=features_train, y=target_train, cv=5)\n",
    "\n",
    "test_accuracy = svm_pipeline.fit(features_train, target_train).score(features_test, target_test)\n",
    "\n",
    "print(f\"The cross-validation accuracy is: {np.mean(cv_accuracy):0.4f}\")\n",
    "print(f\"The test accuracy is: {test_accuracy:0.4f}\")"
   ]
  },
  {
   "cell_type": "code",
   "execution_count": 40,
   "id": "f6b4ed8b",
   "metadata": {},
   "outputs": [],
   "source": [
    "from sklearn.model_selection import GridSearchCV\n",
    "#from sklearn.metrics import f1_score, accuracy_score, precision_score\n",
    "\n",
    "#score_models = {'f1':'f1', 'accuracy':'accuracy', 'precision':'precision'}\n",
    "\n",
    "search_parameters = [\n",
    "    \n",
    "    {\n",
    "    'svc__kernel':['linear'],\n",
    "    'svc__C': np.logspace(-3,3,7)\n",
    "    },\n",
    "    \n",
    "    {\n",
    "    'svc__kernel':['rbf'],\n",
    "    'svc__C': np.logspace(-3,3,7),\n",
    "    'svc__gamma': np.logspace(-3,2,6)\n",
    "    }\n",
    "]\n"
   ]
  },
  {
   "cell_type": "code",
   "execution_count": 49,
   "id": "0f5b299d",
   "metadata": {},
   "outputs": [],
   "source": [
    "grid_search = GridSearchCV(estimator=svm_pipeline, param_grid=search_parameters, cv=5, refit=True, n_jobs=-2)"
   ]
  },
  {
   "cell_type": "code",
   "execution_count": 50,
   "id": "fe356213",
   "metadata": {},
   "outputs": [
    {
     "data": {
      "text/plain": [
       "GridSearchCV(cv=5,\n",
       "             estimator=Pipeline(steps=[('minmaxscaler', MinMaxScaler()),\n",
       "                                       ('svc', SVC())]),\n",
       "             n_jobs=-2,\n",
       "             param_grid=[{'svc__C': array([1.e-03, 1.e-02, 1.e-01, 1.e+00, 1.e+01, 1.e+02, 1.e+03]),\n",
       "                          'svc__kernel': ['linear']},\n",
       "                         {'svc__C': array([1.e-03, 1.e-02, 1.e-01, 1.e+00, 1.e+01, 1.e+02, 1.e+03]),\n",
       "                          'svc__gamma': array([1.e-03, 1.e-02, 1.e-01, 1.e+00, 1.e+01, 1.e+02]),\n",
       "                          'svc__kernel': ['rbf']}])"
      ]
     },
     "execution_count": 50,
     "metadata": {},
     "output_type": "execute_result"
    }
   ],
   "source": [
    "grid_search.fit(features_train, target_train)"
   ]
  },
  {
   "cell_type": "code",
   "execution_count": 53,
   "id": "ceb6314b",
   "metadata": {},
   "outputs": [
    {
     "name": "stdout",
     "output_type": "stream",
     "text": [
      "The best parameters are: {'svc__C': 10.0, 'svc__gamma': 0.1, 'svc__kernel': 'rbf'}\n",
      "The cross-validation score is: 0.9924\n",
      "The test score is: 0.9861\n"
     ]
    }
   ],
   "source": [
    "print(f\"The best parameters are: {grid_search.best_params_}\")\n",
    "print(f\"The cross-validation score is: {grid_search.best_score_:0.4f}\")\n",
    "print(f\"The test score is: {grid_search.score(features_test, target_test):0.4f}\")"
   ]
  },
  {
   "cell_type": "code",
   "execution_count": null,
   "id": "2ffc6652",
   "metadata": {},
   "outputs": [],
   "source": []
  }
 ],
 "metadata": {
  "kernelspec": {
   "display_name": "Python 3 (ipykernel)",
   "language": "python",
   "name": "python3"
  },
  "language_info": {
   "codemirror_mode": {
    "name": "ipython",
    "version": 3
   },
   "file_extension": ".py",
   "mimetype": "text/x-python",
   "name": "python",
   "nbconvert_exporter": "python",
   "pygments_lexer": "ipython3",
   "version": "3.9.12"
  }
 },
 "nbformat": 4,
 "nbformat_minor": 5
}
