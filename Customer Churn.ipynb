{
 "cells": [
  {
   "cell_type": "markdown",
   "id": "53b21f50",
   "metadata": {},
   "source": [
    "## Load Libraries"
   ]
  },
  {
   "cell_type": "code",
   "execution_count": 1,
   "id": "4d18cba1",
   "metadata": {},
   "outputs": [],
   "source": [
    "import pandas as pd\n",
    "import numpy as np\n",
    "import matplotlib.pyplot as plt\n",
    "import seaborn as sns\n",
    "import matplotlib.pyplot as plt"
   ]
  },
  {
   "cell_type": "markdown",
   "id": "ec1f8efe",
   "metadata": {},
   "source": [
    "# Exploratory Data Analysis"
   ]
  },
  {
   "cell_type": "markdown",
   "id": "97be135f",
   "metadata": {},
   "source": [
    "## Data Cleaning and Understanding"
   ]
  },
  {
   "cell_type": "code",
   "execution_count": 2,
   "id": "aa6f7808",
   "metadata": {},
   "outputs": [],
   "source": [
    "dataset = pd.read_csv('Churn_Modelling.csv')"
   ]
  },
  {
   "cell_type": "code",
   "execution_count": 3,
   "id": "a5a52f12",
   "metadata": {},
   "outputs": [
    {
     "data": {
      "text/html": [
       "<div>\n",
       "<style scoped>\n",
       "    .dataframe tbody tr th:only-of-type {\n",
       "        vertical-align: middle;\n",
       "    }\n",
       "\n",
       "    .dataframe tbody tr th {\n",
       "        vertical-align: top;\n",
       "    }\n",
       "\n",
       "    .dataframe thead th {\n",
       "        text-align: right;\n",
       "    }\n",
       "</style>\n",
       "<table border=\"1\" class=\"dataframe\">\n",
       "  <thead>\n",
       "    <tr style=\"text-align: right;\">\n",
       "      <th></th>\n",
       "      <th>RowNumber</th>\n",
       "      <th>CustomerId</th>\n",
       "      <th>Surname</th>\n",
       "      <th>CreditScore</th>\n",
       "      <th>Geography</th>\n",
       "      <th>Gender</th>\n",
       "      <th>Age</th>\n",
       "      <th>Tenure</th>\n",
       "      <th>Balance</th>\n",
       "      <th>NumOfProducts</th>\n",
       "      <th>HasCrCard</th>\n",
       "      <th>IsActiveMember</th>\n",
       "      <th>EstimatedSalary</th>\n",
       "      <th>Exited</th>\n",
       "    </tr>\n",
       "  </thead>\n",
       "  <tbody>\n",
       "    <tr>\n",
       "      <th>0</th>\n",
       "      <td>1</td>\n",
       "      <td>15634602</td>\n",
       "      <td>Hargrave</td>\n",
       "      <td>619</td>\n",
       "      <td>France</td>\n",
       "      <td>Female</td>\n",
       "      <td>42</td>\n",
       "      <td>2</td>\n",
       "      <td>0.00</td>\n",
       "      <td>1</td>\n",
       "      <td>1</td>\n",
       "      <td>1</td>\n",
       "      <td>101348.88</td>\n",
       "      <td>1</td>\n",
       "    </tr>\n",
       "    <tr>\n",
       "      <th>1</th>\n",
       "      <td>2</td>\n",
       "      <td>15647311</td>\n",
       "      <td>Hill</td>\n",
       "      <td>608</td>\n",
       "      <td>Spain</td>\n",
       "      <td>Female</td>\n",
       "      <td>41</td>\n",
       "      <td>1</td>\n",
       "      <td>83807.86</td>\n",
       "      <td>1</td>\n",
       "      <td>0</td>\n",
       "      <td>1</td>\n",
       "      <td>112542.58</td>\n",
       "      <td>0</td>\n",
       "    </tr>\n",
       "    <tr>\n",
       "      <th>2</th>\n",
       "      <td>3</td>\n",
       "      <td>15619304</td>\n",
       "      <td>Onio</td>\n",
       "      <td>502</td>\n",
       "      <td>France</td>\n",
       "      <td>Female</td>\n",
       "      <td>42</td>\n",
       "      <td>8</td>\n",
       "      <td>159660.80</td>\n",
       "      <td>3</td>\n",
       "      <td>1</td>\n",
       "      <td>0</td>\n",
       "      <td>113931.57</td>\n",
       "      <td>1</td>\n",
       "    </tr>\n",
       "    <tr>\n",
       "      <th>3</th>\n",
       "      <td>4</td>\n",
       "      <td>15701354</td>\n",
       "      <td>Boni</td>\n",
       "      <td>699</td>\n",
       "      <td>France</td>\n",
       "      <td>Female</td>\n",
       "      <td>39</td>\n",
       "      <td>1</td>\n",
       "      <td>0.00</td>\n",
       "      <td>2</td>\n",
       "      <td>0</td>\n",
       "      <td>0</td>\n",
       "      <td>93826.63</td>\n",
       "      <td>0</td>\n",
       "    </tr>\n",
       "    <tr>\n",
       "      <th>4</th>\n",
       "      <td>5</td>\n",
       "      <td>15737888</td>\n",
       "      <td>Mitchell</td>\n",
       "      <td>850</td>\n",
       "      <td>Spain</td>\n",
       "      <td>Female</td>\n",
       "      <td>43</td>\n",
       "      <td>2</td>\n",
       "      <td>125510.82</td>\n",
       "      <td>1</td>\n",
       "      <td>1</td>\n",
       "      <td>1</td>\n",
       "      <td>79084.10</td>\n",
       "      <td>0</td>\n",
       "    </tr>\n",
       "  </tbody>\n",
       "</table>\n",
       "</div>"
      ],
      "text/plain": [
       "   RowNumber  CustomerId   Surname  CreditScore Geography  Gender  Age  \\\n",
       "0          1    15634602  Hargrave          619    France  Female   42   \n",
       "1          2    15647311      Hill          608     Spain  Female   41   \n",
       "2          3    15619304      Onio          502    France  Female   42   \n",
       "3          4    15701354      Boni          699    France  Female   39   \n",
       "4          5    15737888  Mitchell          850     Spain  Female   43   \n",
       "\n",
       "   Tenure    Balance  NumOfProducts  HasCrCard  IsActiveMember  \\\n",
       "0       2       0.00              1          1               1   \n",
       "1       1   83807.86              1          0               1   \n",
       "2       8  159660.80              3          1               0   \n",
       "3       1       0.00              2          0               0   \n",
       "4       2  125510.82              1          1               1   \n",
       "\n",
       "   EstimatedSalary  Exited  \n",
       "0        101348.88       1  \n",
       "1        112542.58       0  \n",
       "2        113931.57       1  \n",
       "3         93826.63       0  \n",
       "4         79084.10       0  "
      ]
     },
     "execution_count": 3,
     "metadata": {},
     "output_type": "execute_result"
    }
   ],
   "source": [
    "dataset.head()"
   ]
  },
  {
   "cell_type": "code",
   "execution_count": 4,
   "id": "c4c01b3c",
   "metadata": {},
   "outputs": [],
   "source": [
    "dataset = dataset.drop(['RowNumber', 'CustomerId', 'Surname'], axis=1)"
   ]
  },
  {
   "cell_type": "code",
   "execution_count": 5,
   "id": "5decd77f",
   "metadata": {},
   "outputs": [
    {
     "data": {
      "text/html": [
       "<div>\n",
       "<style scoped>\n",
       "    .dataframe tbody tr th:only-of-type {\n",
       "        vertical-align: middle;\n",
       "    }\n",
       "\n",
       "    .dataframe tbody tr th {\n",
       "        vertical-align: top;\n",
       "    }\n",
       "\n",
       "    .dataframe thead th {\n",
       "        text-align: right;\n",
       "    }\n",
       "</style>\n",
       "<table border=\"1\" class=\"dataframe\">\n",
       "  <thead>\n",
       "    <tr style=\"text-align: right;\">\n",
       "      <th></th>\n",
       "      <th>CreditScore</th>\n",
       "      <th>Geography</th>\n",
       "      <th>Gender</th>\n",
       "      <th>Age</th>\n",
       "      <th>Tenure</th>\n",
       "      <th>Balance</th>\n",
       "      <th>NumOfProducts</th>\n",
       "      <th>HasCrCard</th>\n",
       "      <th>IsActiveMember</th>\n",
       "      <th>EstimatedSalary</th>\n",
       "      <th>Exited</th>\n",
       "    </tr>\n",
       "  </thead>\n",
       "  <tbody>\n",
       "    <tr>\n",
       "      <th>0</th>\n",
       "      <td>619</td>\n",
       "      <td>France</td>\n",
       "      <td>Female</td>\n",
       "      <td>42</td>\n",
       "      <td>2</td>\n",
       "      <td>0.00</td>\n",
       "      <td>1</td>\n",
       "      <td>1</td>\n",
       "      <td>1</td>\n",
       "      <td>101348.88</td>\n",
       "      <td>1</td>\n",
       "    </tr>\n",
       "    <tr>\n",
       "      <th>1</th>\n",
       "      <td>608</td>\n",
       "      <td>Spain</td>\n",
       "      <td>Female</td>\n",
       "      <td>41</td>\n",
       "      <td>1</td>\n",
       "      <td>83807.86</td>\n",
       "      <td>1</td>\n",
       "      <td>0</td>\n",
       "      <td>1</td>\n",
       "      <td>112542.58</td>\n",
       "      <td>0</td>\n",
       "    </tr>\n",
       "    <tr>\n",
       "      <th>2</th>\n",
       "      <td>502</td>\n",
       "      <td>France</td>\n",
       "      <td>Female</td>\n",
       "      <td>42</td>\n",
       "      <td>8</td>\n",
       "      <td>159660.80</td>\n",
       "      <td>3</td>\n",
       "      <td>1</td>\n",
       "      <td>0</td>\n",
       "      <td>113931.57</td>\n",
       "      <td>1</td>\n",
       "    </tr>\n",
       "    <tr>\n",
       "      <th>3</th>\n",
       "      <td>699</td>\n",
       "      <td>France</td>\n",
       "      <td>Female</td>\n",
       "      <td>39</td>\n",
       "      <td>1</td>\n",
       "      <td>0.00</td>\n",
       "      <td>2</td>\n",
       "      <td>0</td>\n",
       "      <td>0</td>\n",
       "      <td>93826.63</td>\n",
       "      <td>0</td>\n",
       "    </tr>\n",
       "    <tr>\n",
       "      <th>4</th>\n",
       "      <td>850</td>\n",
       "      <td>Spain</td>\n",
       "      <td>Female</td>\n",
       "      <td>43</td>\n",
       "      <td>2</td>\n",
       "      <td>125510.82</td>\n",
       "      <td>1</td>\n",
       "      <td>1</td>\n",
       "      <td>1</td>\n",
       "      <td>79084.10</td>\n",
       "      <td>0</td>\n",
       "    </tr>\n",
       "  </tbody>\n",
       "</table>\n",
       "</div>"
      ],
      "text/plain": [
       "   CreditScore Geography  Gender  Age  Tenure    Balance  NumOfProducts  \\\n",
       "0          619    France  Female   42       2       0.00              1   \n",
       "1          608     Spain  Female   41       1   83807.86              1   \n",
       "2          502    France  Female   42       8  159660.80              3   \n",
       "3          699    France  Female   39       1       0.00              2   \n",
       "4          850     Spain  Female   43       2  125510.82              1   \n",
       "\n",
       "   HasCrCard  IsActiveMember  EstimatedSalary  Exited  \n",
       "0          1               1        101348.88       1  \n",
       "1          0               1        112542.58       0  \n",
       "2          1               0        113931.57       1  \n",
       "3          0               0         93826.63       0  \n",
       "4          1               1         79084.10       0  "
      ]
     },
     "execution_count": 5,
     "metadata": {},
     "output_type": "execute_result"
    }
   ],
   "source": [
    "dataset.head()"
   ]
  },
  {
   "cell_type": "code",
   "execution_count": 6,
   "id": "77c359e2",
   "metadata": {},
   "outputs": [
    {
     "name": "stdout",
     "output_type": "stream",
     "text": [
      "<class 'pandas.core.frame.DataFrame'>\n",
      "RangeIndex: 10000 entries, 0 to 9999\n",
      "Data columns (total 11 columns):\n",
      " #   Column           Non-Null Count  Dtype  \n",
      "---  ------           --------------  -----  \n",
      " 0   CreditScore      10000 non-null  int64  \n",
      " 1   Geography        10000 non-null  object \n",
      " 2   Gender           10000 non-null  object \n",
      " 3   Age              10000 non-null  int64  \n",
      " 4   Tenure           10000 non-null  int64  \n",
      " 5   Balance          10000 non-null  float64\n",
      " 6   NumOfProducts    10000 non-null  int64  \n",
      " 7   HasCrCard        10000 non-null  int64  \n",
      " 8   IsActiveMember   10000 non-null  int64  \n",
      " 9   EstimatedSalary  10000 non-null  float64\n",
      " 10  Exited           10000 non-null  int64  \n",
      "dtypes: float64(2), int64(7), object(2)\n",
      "memory usage: 859.5+ KB\n"
     ]
    }
   ],
   "source": [
    "dataset.info()"
   ]
  },
  {
   "cell_type": "code",
   "execution_count": 7,
   "id": "e0cfe943",
   "metadata": {},
   "outputs": [
    {
     "data": {
      "text/plain": [
       "CreditScore        False\n",
       "Geography          False\n",
       "Gender             False\n",
       "Age                False\n",
       "Tenure             False\n",
       "Balance            False\n",
       "NumOfProducts      False\n",
       "HasCrCard          False\n",
       "IsActiveMember     False\n",
       "EstimatedSalary    False\n",
       "Exited             False\n",
       "dtype: bool"
      ]
     },
     "execution_count": 7,
     "metadata": {},
     "output_type": "execute_result"
    }
   ],
   "source": [
    "dataset.isna().any()"
   ]
  },
  {
   "cell_type": "code",
   "execution_count": 8,
   "id": "21236859",
   "metadata": {},
   "outputs": [
    {
     "data": {
      "text/plain": [
       "11"
      ]
     },
     "execution_count": 8,
     "metadata": {},
     "output_type": "execute_result"
    }
   ],
   "source": [
    "len(dataset.isna().any()) "
   ]
  },
  {
   "cell_type": "code",
   "execution_count": 9,
   "id": "eee637fa",
   "metadata": {},
   "outputs": [
    {
     "data": {
      "text/html": [
       "<div>\n",
       "<style scoped>\n",
       "    .dataframe tbody tr th:only-of-type {\n",
       "        vertical-align: middle;\n",
       "    }\n",
       "\n",
       "    .dataframe tbody tr th {\n",
       "        vertical-align: top;\n",
       "    }\n",
       "\n",
       "    .dataframe thead th {\n",
       "        text-align: right;\n",
       "    }\n",
       "</style>\n",
       "<table border=\"1\" class=\"dataframe\">\n",
       "  <thead>\n",
       "    <tr style=\"text-align: right;\">\n",
       "      <th></th>\n",
       "      <th>CreditScore</th>\n",
       "      <th>Age</th>\n",
       "      <th>Tenure</th>\n",
       "      <th>Balance</th>\n",
       "      <th>NumOfProducts</th>\n",
       "      <th>HasCrCard</th>\n",
       "      <th>IsActiveMember</th>\n",
       "      <th>EstimatedSalary</th>\n",
       "      <th>Exited</th>\n",
       "    </tr>\n",
       "  </thead>\n",
       "  <tbody>\n",
       "    <tr>\n",
       "      <th>count</th>\n",
       "      <td>10000.000000</td>\n",
       "      <td>10000.000000</td>\n",
       "      <td>10000.000000</td>\n",
       "      <td>10000.000000</td>\n",
       "      <td>10000.000000</td>\n",
       "      <td>10000.00000</td>\n",
       "      <td>10000.000000</td>\n",
       "      <td>10000.000000</td>\n",
       "      <td>10000.000000</td>\n",
       "    </tr>\n",
       "    <tr>\n",
       "      <th>mean</th>\n",
       "      <td>650.528800</td>\n",
       "      <td>38.921800</td>\n",
       "      <td>5.012800</td>\n",
       "      <td>76485.889288</td>\n",
       "      <td>1.530200</td>\n",
       "      <td>0.70550</td>\n",
       "      <td>0.515100</td>\n",
       "      <td>100090.239881</td>\n",
       "      <td>0.203700</td>\n",
       "    </tr>\n",
       "    <tr>\n",
       "      <th>std</th>\n",
       "      <td>96.653299</td>\n",
       "      <td>10.487806</td>\n",
       "      <td>2.892174</td>\n",
       "      <td>62397.405202</td>\n",
       "      <td>0.581654</td>\n",
       "      <td>0.45584</td>\n",
       "      <td>0.499797</td>\n",
       "      <td>57510.492818</td>\n",
       "      <td>0.402769</td>\n",
       "    </tr>\n",
       "    <tr>\n",
       "      <th>min</th>\n",
       "      <td>350.000000</td>\n",
       "      <td>18.000000</td>\n",
       "      <td>0.000000</td>\n",
       "      <td>0.000000</td>\n",
       "      <td>1.000000</td>\n",
       "      <td>0.00000</td>\n",
       "      <td>0.000000</td>\n",
       "      <td>11.580000</td>\n",
       "      <td>0.000000</td>\n",
       "    </tr>\n",
       "    <tr>\n",
       "      <th>25%</th>\n",
       "      <td>584.000000</td>\n",
       "      <td>32.000000</td>\n",
       "      <td>3.000000</td>\n",
       "      <td>0.000000</td>\n",
       "      <td>1.000000</td>\n",
       "      <td>0.00000</td>\n",
       "      <td>0.000000</td>\n",
       "      <td>51002.110000</td>\n",
       "      <td>0.000000</td>\n",
       "    </tr>\n",
       "    <tr>\n",
       "      <th>50%</th>\n",
       "      <td>652.000000</td>\n",
       "      <td>37.000000</td>\n",
       "      <td>5.000000</td>\n",
       "      <td>97198.540000</td>\n",
       "      <td>1.000000</td>\n",
       "      <td>1.00000</td>\n",
       "      <td>1.000000</td>\n",
       "      <td>100193.915000</td>\n",
       "      <td>0.000000</td>\n",
       "    </tr>\n",
       "    <tr>\n",
       "      <th>75%</th>\n",
       "      <td>718.000000</td>\n",
       "      <td>44.000000</td>\n",
       "      <td>7.000000</td>\n",
       "      <td>127644.240000</td>\n",
       "      <td>2.000000</td>\n",
       "      <td>1.00000</td>\n",
       "      <td>1.000000</td>\n",
       "      <td>149388.247500</td>\n",
       "      <td>0.000000</td>\n",
       "    </tr>\n",
       "    <tr>\n",
       "      <th>max</th>\n",
       "      <td>850.000000</td>\n",
       "      <td>92.000000</td>\n",
       "      <td>10.000000</td>\n",
       "      <td>250898.090000</td>\n",
       "      <td>4.000000</td>\n",
       "      <td>1.00000</td>\n",
       "      <td>1.000000</td>\n",
       "      <td>199992.480000</td>\n",
       "      <td>1.000000</td>\n",
       "    </tr>\n",
       "  </tbody>\n",
       "</table>\n",
       "</div>"
      ],
      "text/plain": [
       "        CreditScore           Age        Tenure        Balance  NumOfProducts  \\\n",
       "count  10000.000000  10000.000000  10000.000000   10000.000000   10000.000000   \n",
       "mean     650.528800     38.921800      5.012800   76485.889288       1.530200   \n",
       "std       96.653299     10.487806      2.892174   62397.405202       0.581654   \n",
       "min      350.000000     18.000000      0.000000       0.000000       1.000000   \n",
       "25%      584.000000     32.000000      3.000000       0.000000       1.000000   \n",
       "50%      652.000000     37.000000      5.000000   97198.540000       1.000000   \n",
       "75%      718.000000     44.000000      7.000000  127644.240000       2.000000   \n",
       "max      850.000000     92.000000     10.000000  250898.090000       4.000000   \n",
       "\n",
       "         HasCrCard  IsActiveMember  EstimatedSalary        Exited  \n",
       "count  10000.00000    10000.000000     10000.000000  10000.000000  \n",
       "mean       0.70550        0.515100    100090.239881      0.203700  \n",
       "std        0.45584        0.499797     57510.492818      0.402769  \n",
       "min        0.00000        0.000000        11.580000      0.000000  \n",
       "25%        0.00000        0.000000     51002.110000      0.000000  \n",
       "50%        1.00000        1.000000    100193.915000      0.000000  \n",
       "75%        1.00000        1.000000    149388.247500      0.000000  \n",
       "max        1.00000        1.000000    199992.480000      1.000000  "
      ]
     },
     "execution_count": 9,
     "metadata": {},
     "output_type": "execute_result"
    }
   ],
   "source": [
    "dataset.describe()"
   ]
  },
  {
   "cell_type": "markdown",
   "id": "73fcbe17",
   "metadata": {},
   "source": [
    "### Making all categorical features as object datatype"
   ]
  },
  {
   "cell_type": "code",
   "execution_count": 10,
   "id": "8df5acd1",
   "metadata": {},
   "outputs": [],
   "source": [
    "dataset_2 = dataset"
   ]
  },
  {
   "cell_type": "code",
   "execution_count": 11,
   "id": "9363c3c3",
   "metadata": {},
   "outputs": [],
   "source": [
    "def make_dtype_object(dataset, feature):\n",
    "    dataset[feature] = dataset[feature].astype(str)"
   ]
  },
  {
   "cell_type": "code",
   "execution_count": 12,
   "id": "906d3cd0",
   "metadata": {},
   "outputs": [],
   "source": [
    "for feature in ['HasCrCard', 'IsActiveMember', 'Exited']: make_dtype_object(dataset_2, feature)"
   ]
  },
  {
   "cell_type": "code",
   "execution_count": 13,
   "id": "1a9c759f",
   "metadata": {},
   "outputs": [
    {
     "name": "stdout",
     "output_type": "stream",
     "text": [
      "<class 'pandas.core.frame.DataFrame'>\n",
      "RangeIndex: 10000 entries, 0 to 9999\n",
      "Data columns (total 11 columns):\n",
      " #   Column           Non-Null Count  Dtype  \n",
      "---  ------           --------------  -----  \n",
      " 0   CreditScore      10000 non-null  int64  \n",
      " 1   Geography        10000 non-null  object \n",
      " 2   Gender           10000 non-null  object \n",
      " 3   Age              10000 non-null  int64  \n",
      " 4   Tenure           10000 non-null  int64  \n",
      " 5   Balance          10000 non-null  float64\n",
      " 6   NumOfProducts    10000 non-null  int64  \n",
      " 7   HasCrCard        10000 non-null  object \n",
      " 8   IsActiveMember   10000 non-null  object \n",
      " 9   EstimatedSalary  10000 non-null  float64\n",
      " 10  Exited           10000 non-null  object \n",
      "dtypes: float64(2), int64(4), object(5)\n",
      "memory usage: 859.5+ KB\n"
     ]
    }
   ],
   "source": [
    "dataset_2.info()"
   ]
  },
  {
   "cell_type": "markdown",
   "id": "7f98c477",
   "metadata": {},
   "source": [
    "### Countplots of all categorical features"
   ]
  },
  {
   "cell_type": "code",
   "execution_count": 14,
   "id": "3bb66176",
   "metadata": {},
   "outputs": [],
   "source": [
    "categorical_dataset = dataset_2.select_dtypes(include='object')\n"
   ]
  },
  {
   "cell_type": "code",
   "execution_count": 15,
   "id": "06b9f192",
   "metadata": {},
   "outputs": [
    {
     "name": "stderr",
     "output_type": "stream",
     "text": [
      "C:\\Users\\Administrator\\anaconda3\\lib\\site-packages\\seaborn\\_decorators.py:36: FutureWarning: Pass the following variable as a keyword arg: x. From version 0.12, the only valid positional argument will be `data`, and passing other arguments without an explicit keyword will result in an error or misinterpretation.\n",
      "  warnings.warn(\n",
      "C:\\Users\\Administrator\\anaconda3\\lib\\site-packages\\seaborn\\_decorators.py:36: FutureWarning: Pass the following variable as a keyword arg: x. From version 0.12, the only valid positional argument will be `data`, and passing other arguments without an explicit keyword will result in an error or misinterpretation.\n",
      "  warnings.warn(\n",
      "C:\\Users\\Administrator\\anaconda3\\lib\\site-packages\\seaborn\\_decorators.py:36: FutureWarning: Pass the following variable as a keyword arg: x. From version 0.12, the only valid positional argument will be `data`, and passing other arguments without an explicit keyword will result in an error or misinterpretation.\n",
      "  warnings.warn(\n",
      "C:\\Users\\Administrator\\anaconda3\\lib\\site-packages\\seaborn\\_decorators.py:36: FutureWarning: Pass the following variable as a keyword arg: x. From version 0.12, the only valid positional argument will be `data`, and passing other arguments without an explicit keyword will result in an error or misinterpretation.\n",
      "  warnings.warn(\n",
      "C:\\Users\\Administrator\\anaconda3\\lib\\site-packages\\seaborn\\_decorators.py:36: FutureWarning: Pass the following variable as a keyword arg: x. From version 0.12, the only valid positional argument will be `data`, and passing other arguments without an explicit keyword will result in an error or misinterpretation.\n",
      "  warnings.warn(\n"
     ]
    },
    {
     "data": {
      "image/png": "[encoded data removed]",
      "text/plain": [
       "<Figure size 432x288 with 1 Axes>"
      ]
     },
     "metadata": {
      "needs_background": "light"
     },
     "output_type": "display_data"
    },
    {
     "data": {
      "image/png": "[encoded data removed]",
      "text/plain": [
       "<Figure size 432x288 with 1 Axes>"
      ]
     },
     "metadata": {
      "needs_background": "light"
     },
     "output_type": "display_data"
    },
    {
     "data": {
      "image/png": "[encoded data removed]",
      "text/plain": [
       "<Figure size 432x288 with 1 Axes>"
      ]
     },
     "metadata": {
      "needs_background": "light"
     },
     "output_type": "display_data"
    },
    {
     "data": {
      "image/png": "[encoded data removed]",
      "text/plain": [
       "<Figure size 432x288 with 1 Axes>"
      ]
     },
     "metadata": {
      "needs_background": "light"
     },
     "output_type": "display_data"
    },
    {
     "data": {
      "image/png": "[encoded data removed]",
      "text/plain": [
       "<Figure size 432x288 with 1 Axes>"
      ]
     },
     "metadata": {
      "needs_background": "light"
     },
     "output_type": "display_data"
    }
   ],
   "source": [
    "for category in categorical_dataset.columns:\n",
    "    plt.figure()\n",
    "    sns.countplot(categorical_dataset[category])"
   ]
  },
  {
   "cell_type": "markdown",
   "id": "7efd7d4b",
   "metadata": {},
   "source": [
    "### Encoding the categorical features"
   ]
  },
  {
   "cell_type": "code",
   "execution_count": 16,
   "id": "1b809141",
   "metadata": {},
   "outputs": [],
   "source": [
    "from sklearn.preprocessing import LabelEncoder"
   ]
  },
  {
   "cell_type": "code",
   "execution_count": 17,
   "id": "34c951ef",
   "metadata": {},
   "outputs": [],
   "source": [
    "le = LabelEncoder()"
   ]
  },
  {
   "cell_type": "code",
   "execution_count": 18,
   "id": "71664e9a",
   "metadata": {},
   "outputs": [
    {
     "name": "stdout",
     "output_type": "stream",
     "text": [
      "0       0\n",
      "1       2\n",
      "2       0\n",
      "3       0\n",
      "4       2\n",
      "       ..\n",
      "9995    0\n",
      "9996    0\n",
      "9997    0\n",
      "9998    1\n",
      "9999    0\n",
      "Name: Geography, Length: 10000, dtype: int32\n",
      "0       0\n",
      "1       0\n",
      "2       0\n",
      "3       0\n",
      "4       0\n",
      "       ..\n",
      "9995    1\n",
      "9996    1\n",
      "9997    0\n",
      "9998    1\n",
      "9999    0\n",
      "Name: Gender, Length: 10000, dtype: int32\n",
      "0       1\n",
      "1       0\n",
      "2       1\n",
      "3       0\n",
      "4       1\n",
      "       ..\n",
      "9995    1\n",
      "9996    1\n",
      "9997    0\n",
      "9998    1\n",
      "9999    1\n",
      "Name: HasCrCard, Length: 10000, dtype: int32\n",
      "0       1\n",
      "1       1\n",
      "2       0\n",
      "3       0\n",
      "4       1\n",
      "       ..\n",
      "9995    0\n",
      "9996    1\n",
      "9997    1\n",
      "9998    0\n",
      "9999    0\n",
      "Name: IsActiveMember, Length: 10000, dtype: int32\n",
      "0       1\n",
      "1       0\n",
      "2       1\n",
      "3       0\n",
      "4       0\n",
      "       ..\n",
      "9995    0\n",
      "9996    0\n",
      "9997    1\n",
      "9998    1\n",
      "9999    0\n",
      "Name: Exited, Length: 10000, dtype: int32\n"
     ]
    }
   ],
   "source": [
    "for category in categorical_dataset.columns:\n",
    "    dataset[category] = le.fit_transform(dataset[category])\n",
    "    print(dataset[category])"
   ]
  },
  {
   "cell_type": "code",
   "execution_count": 19,
   "id": "4f7b867e",
   "metadata": {},
   "outputs": [],
   "source": [
    "X = dataset.iloc[:, :-1 ] \n",
    "y = dataset['Exited']"
   ]
  },
  {
   "cell_type": "markdown",
   "id": "62f11817",
   "metadata": {},
   "source": [
    "### Scaling the features"
   ]
  },
  {
   "cell_type": "code",
   "execution_count": 20,
   "id": "4dffeaff",
   "metadata": {},
   "outputs": [],
   "source": [
    "from sklearn.preprocessing import StandardScaler"
   ]
  },
  {
   "cell_type": "code",
   "execution_count": 21,
   "id": "de3d3f6c",
   "metadata": {},
   "outputs": [],
   "source": [
    "def scale_feature(dataset, feature):\n",
    "    dataset['scaled_' + feature] = StandardScaler().fit_transform(dataset[[feature]])\n"
   ]
  },
  {
   "cell_type": "code",
   "execution_count": 22,
   "id": "8dcc4d4d",
   "metadata": {},
   "outputs": [],
   "source": [
    "scale_list = ['EstimatedSalary', 'Balance', 'NumOfProducts', 'Age', 'Tenure']\n",
    "for feature in scale_list: scale_feature(X, feature) \n"
   ]
  },
  {
   "cell_type": "code",
   "execution_count": 23,
   "id": "24c4f5ba",
   "metadata": {},
   "outputs": [],
   "source": [
    "X = X.drop(scale_list, axis=1)"
   ]
  },
  {
   "cell_type": "code",
   "execution_count": 24,
   "id": "25cff33e",
   "metadata": {},
   "outputs": [
    {
     "data": {
      "text/html": [
       "<div>\n",
       "<style scoped>\n",
       "    .dataframe tbody tr th:only-of-type {\n",
       "        vertical-align: middle;\n",
       "    }\n",
       "\n",
       "    .dataframe tbody tr th {\n",
       "        vertical-align: top;\n",
       "    }\n",
       "\n",
       "    .dataframe thead th {\n",
       "        text-align: right;\n",
       "    }\n",
       "</style>\n",
       "<table border=\"1\" class=\"dataframe\">\n",
       "  <thead>\n",
       "    <tr style=\"text-align: right;\">\n",
       "      <th></th>\n",
       "      <th>CreditScore</th>\n",
       "      <th>Geography</th>\n",
       "      <th>Gender</th>\n",
       "      <th>HasCrCard</th>\n",
       "      <th>IsActiveMember</th>\n",
       "      <th>scaled_EstimatedSalary</th>\n",
       "      <th>scaled_Balance</th>\n",
       "      <th>scaled_NumOfProducts</th>\n",
       "      <th>scaled_Age</th>\n",
       "      <th>scaled_Tenure</th>\n",
       "    </tr>\n",
       "  </thead>\n",
       "  <tbody>\n",
       "    <tr>\n",
       "      <th>0</th>\n",
       "      <td>619</td>\n",
       "      <td>0</td>\n",
       "      <td>0</td>\n",
       "      <td>1</td>\n",
       "      <td>1</td>\n",
       "      <td>0.021886</td>\n",
       "      <td>-1.225848</td>\n",
       "      <td>-0.911583</td>\n",
       "      <td>0.293517</td>\n",
       "      <td>-1.041760</td>\n",
       "    </tr>\n",
       "    <tr>\n",
       "      <th>1</th>\n",
       "      <td>608</td>\n",
       "      <td>2</td>\n",
       "      <td>0</td>\n",
       "      <td>0</td>\n",
       "      <td>1</td>\n",
       "      <td>0.216534</td>\n",
       "      <td>0.117350</td>\n",
       "      <td>-0.911583</td>\n",
       "      <td>0.198164</td>\n",
       "      <td>-1.387538</td>\n",
       "    </tr>\n",
       "    <tr>\n",
       "      <th>2</th>\n",
       "      <td>502</td>\n",
       "      <td>0</td>\n",
       "      <td>0</td>\n",
       "      <td>1</td>\n",
       "      <td>0</td>\n",
       "      <td>0.240687</td>\n",
       "      <td>1.333053</td>\n",
       "      <td>2.527057</td>\n",
       "      <td>0.293517</td>\n",
       "      <td>1.032908</td>\n",
       "    </tr>\n",
       "    <tr>\n",
       "      <th>3</th>\n",
       "      <td>699</td>\n",
       "      <td>0</td>\n",
       "      <td>0</td>\n",
       "      <td>0</td>\n",
       "      <td>0</td>\n",
       "      <td>-0.108918</td>\n",
       "      <td>-1.225848</td>\n",
       "      <td>0.807737</td>\n",
       "      <td>0.007457</td>\n",
       "      <td>-1.387538</td>\n",
       "    </tr>\n",
       "    <tr>\n",
       "      <th>4</th>\n",
       "      <td>850</td>\n",
       "      <td>2</td>\n",
       "      <td>0</td>\n",
       "      <td>1</td>\n",
       "      <td>1</td>\n",
       "      <td>-0.365276</td>\n",
       "      <td>0.785728</td>\n",
       "      <td>-0.911583</td>\n",
       "      <td>0.388871</td>\n",
       "      <td>-1.041760</td>\n",
       "    </tr>\n",
       "    <tr>\n",
       "      <th>...</th>\n",
       "      <td>...</td>\n",
       "      <td>...</td>\n",
       "      <td>...</td>\n",
       "      <td>...</td>\n",
       "      <td>...</td>\n",
       "      <td>...</td>\n",
       "      <td>...</td>\n",
       "      <td>...</td>\n",
       "      <td>...</td>\n",
       "      <td>...</td>\n",
       "    </tr>\n",
       "    <tr>\n",
       "      <th>9995</th>\n",
       "      <td>771</td>\n",
       "      <td>0</td>\n",
       "      <td>1</td>\n",
       "      <td>1</td>\n",
       "      <td>0</td>\n",
       "      <td>-0.066419</td>\n",
       "      <td>-1.225848</td>\n",
       "      <td>0.807737</td>\n",
       "      <td>0.007457</td>\n",
       "      <td>-0.004426</td>\n",
       "    </tr>\n",
       "    <tr>\n",
       "      <th>9996</th>\n",
       "      <td>516</td>\n",
       "      <td>0</td>\n",
       "      <td>1</td>\n",
       "      <td>1</td>\n",
       "      <td>1</td>\n",
       "      <td>0.027988</td>\n",
       "      <td>-0.306379</td>\n",
       "      <td>-0.911583</td>\n",
       "      <td>-0.373958</td>\n",
       "      <td>1.724464</td>\n",
       "    </tr>\n",
       "    <tr>\n",
       "      <th>9997</th>\n",
       "      <td>709</td>\n",
       "      <td>0</td>\n",
       "      <td>0</td>\n",
       "      <td>0</td>\n",
       "      <td>1</td>\n",
       "      <td>-1.008643</td>\n",
       "      <td>-1.225848</td>\n",
       "      <td>-0.911583</td>\n",
       "      <td>-0.278604</td>\n",
       "      <td>0.687130</td>\n",
       "    </tr>\n",
       "    <tr>\n",
       "      <th>9998</th>\n",
       "      <td>772</td>\n",
       "      <td>1</td>\n",
       "      <td>1</td>\n",
       "      <td>1</td>\n",
       "      <td>0</td>\n",
       "      <td>-0.125231</td>\n",
       "      <td>-0.022608</td>\n",
       "      <td>0.807737</td>\n",
       "      <td>0.293517</td>\n",
       "      <td>-0.695982</td>\n",
       "    </tr>\n",
       "    <tr>\n",
       "      <th>9999</th>\n",
       "      <td>792</td>\n",
       "      <td>0</td>\n",
       "      <td>0</td>\n",
       "      <td>1</td>\n",
       "      <td>0</td>\n",
       "      <td>-1.076370</td>\n",
       "      <td>0.859965</td>\n",
       "      <td>-0.911583</td>\n",
       "      <td>-1.041433</td>\n",
       "      <td>-0.350204</td>\n",
       "    </tr>\n",
       "  </tbody>\n",
       "</table>\n",
       "<p>10000 rows × 10 columns</p>\n",
       "</div>"
      ],
      "text/plain": [
       "      CreditScore  Geography  Gender  HasCrCard  IsActiveMember  \\\n",
       "0             619          0       0          1               1   \n",
       "1             608          2       0          0               1   \n",
       "2             502          0       0          1               0   \n",
       "3             699          0       0          0               0   \n",
       "4             850          2       0          1               1   \n",
       "...           ...        ...     ...        ...             ...   \n",
       "9995          771          0       1          1               0   \n",
       "9996          516          0       1          1               1   \n",
       "9997          709          0       0          0               1   \n",
       "9998          772          1       1          1               0   \n",
       "9999          792          0       0          1               0   \n",
       "\n",
       "      scaled_EstimatedSalary  scaled_Balance  scaled_NumOfProducts  \\\n",
       "0                   0.021886       -1.225848             -0.911583   \n",
       "1                   0.216534        0.117350             -0.911583   \n",
       "2                   0.240687        1.333053              2.527057   \n",
       "3                  -0.108918       -1.225848              0.807737   \n",
       "4                  -0.365276        0.785728             -0.911583   \n",
       "...                      ...             ...                   ...   \n",
       "9995               -0.066419       -1.225848              0.807737   \n",
       "9996                0.027988       -0.306379             -0.911583   \n",
       "9997               -1.008643       -1.225848             -0.911583   \n",
       "9998               -0.125231       -0.022608              0.807737   \n",
       "9999               -1.076370        0.859965             -0.911583   \n",
       "\n",
       "      scaled_Age  scaled_Tenure  \n",
       "0       0.293517      -1.041760  \n",
       "1       0.198164      -1.387538  \n",
       "2       0.293517       1.032908  \n",
       "3       0.007457      -1.387538  \n",
       "4       0.388871      -1.041760  \n",
       "...          ...            ...  \n",
       "9995    0.007457      -0.004426  \n",
       "9996   -0.373958       1.724464  \n",
       "9997   -0.278604       0.687130  \n",
       "9998    0.293517      -0.695982  \n",
       "9999   -1.041433      -0.350204  \n",
       "\n",
       "[10000 rows x 10 columns]"
      ]
     },
     "execution_count": 24,
     "metadata": {},
     "output_type": "execute_result"
    }
   ],
   "source": [
    "X"
   ]
  },
  {
   "cell_type": "markdown",
   "id": "caa97570",
   "metadata": {},
   "source": [
    "## Splitting data into Training and Test Sets"
   ]
  },
  {
   "cell_type": "code",
   "execution_count": 25,
   "id": "5aad9341",
   "metadata": {},
   "outputs": [],
   "source": [
    "from sklearn.model_selection import train_test_split"
   ]
  },
  {
   "cell_type": "code",
   "execution_count": 26,
   "id": "fa459e08",
   "metadata": {},
   "outputs": [],
   "source": [
    "X_train, X_test, y_train, y_test = train_test_split(X, y, test_size=0.2, random_state=2)"
   ]
  },
  {
   "cell_type": "markdown",
   "id": "3dca54f4",
   "metadata": {},
   "source": [
    "# Building Models"
   ]
  },
  {
   "cell_type": "markdown",
   "id": "8db5b9af",
   "metadata": {},
   "source": [
    "## Logistic Regression"
   ]
  },
  {
   "cell_type": "code",
   "execution_count": 27,
   "id": "d5abbfc6",
   "metadata": {},
   "outputs": [],
   "source": [
    "from sklearn.linear_model import LogisticRegression"
   ]
  },
  {
   "cell_type": "code",
   "execution_count": 28,
   "id": "e29beca1",
   "metadata": {},
   "outputs": [],
   "source": [
    "lr_clf = LogisticRegression()"
   ]
  },
  {
   "cell_type": "code",
   "execution_count": 29,
   "id": "fb18cdae",
   "metadata": {},
   "outputs": [
    {
     "data": {
      "text/plain": [
       "LogisticRegression()"
      ]
     },
     "execution_count": 29,
     "metadata": {},
     "output_type": "execute_result"
    }
   ],
   "source": [
    "lr_clf.fit(X_train, y_train)"
   ]
  },
  {
   "cell_type": "code",
   "execution_count": 30,
   "id": "d4d9269b",
   "metadata": {},
   "outputs": [],
   "source": [
    "lr_pred_y = lr_clf.predict(X_test)"
   ]
  },
  {
   "cell_type": "markdown",
   "id": "f1efcaba",
   "metadata": {},
   "source": [
    "### Grid Search for best parameters"
   ]
  },
  {
   "cell_type": "code",
   "execution_count": 31,
   "id": "0716fe6b",
   "metadata": {},
   "outputs": [],
   "source": [
    "from sklearn.model_selection import GridSearchCV\n",
    "from sklearn.model_selection import KFold\n",
    "\n",
    "kfold = KFold(n_splits=10, shuffle=True, random_state=0)"
   ]
  },
  {
   "cell_type": "code",
   "execution_count": 32,
   "id": "10802383",
   "metadata": {},
   "outputs": [],
   "source": [
    "lr_grid_params  = {\n",
    "    'solver' : ['saga', 'newton-cg', 'lbfgs', 'sag'],\n",
    "      'penalty' : ['elasticnet', 'l1', 'l2', 'none'],\n",
    "      'max_iter' : range(50,500, 50),\n",
    "      'C' : [0.001, 0.01, 0.1, 1, 10, 100]\n",
    "}"
   ]
  },
  {
   "cell_type": "code",
   "execution_count": 33,
   "id": "3ce3918d",
   "metadata": {},
   "outputs": [],
   "source": [
    "lr_grid_search = GridSearchCV(LogisticRegression(), lr_grid_params, scoring='f1', n_jobs=-1, cv=kfold, verbose = 3)"
   ]
  },
  {
   "cell_type": "code",
   "execution_count": 34,
   "id": "fdca769c",
   "metadata": {},
   "outputs": [
    {
     "name": "stdout",
     "output_type": "stream",
     "text": [
      "Fitting 10 folds for each of 864 candidates, totalling 8640 fits\n"
     ]
    },
    {
     "name": "stderr",
     "output_type": "stream",
     "text": [
      "C:\\Users\\Administrator\\anaconda3\\lib\\site-packages\\sklearn\\model_selection\\_validation.py:372: FitFailedWarning: \n",
      "3780 fits failed out of a total of 8640.\n",
      "The score on these train-test partitions for these parameters will be set to nan.\n",
      "If these failures are not expected, you can try to debug them by setting error_score='raise'.\n",
      "\n",
      "Below are more details about the failures:\n",
      "--------------------------------------------------------------------------------\n",
      "540 fits failed with the following error:\n",
      "Traceback (most recent call last):\n",
      "  File \"C:\\Users\\Administrator\\anaconda3\\lib\\site-packages\\sklearn\\model_selection\\_validation.py\", line 680, in _fit_and_score\n",
      "    estimator.fit(X_train, y_train, **fit_params)\n",
      "  File \"C:\\Users\\Administrator\\anaconda3\\lib\\site-packages\\sklearn\\linear_model\\_logistic.py\", line 1471, in fit\n",
      "    raise ValueError(\n",
      "ValueError: l1_ratio must be between 0 and 1; got (l1_ratio=None)\n",
      "\n",
      "--------------------------------------------------------------------------------\n",
      "540 fits failed with the following error:\n",
      "Traceback (most recent call last):\n",
      "  File \"C:\\Users\\Administrator\\anaconda3\\lib\\site-packages\\sklearn\\model_selection\\_validation.py\", line 680, in _fit_and_score\n",
      "    estimator.fit(X_train, y_train, **fit_params)\n",
      "  File \"C:\\Users\\Administrator\\anaconda3\\lib\\site-packages\\sklearn\\linear_model\\_logistic.py\", line 1461, in fit\n",
      "    solver = _check_solver(self.solver, self.penalty, self.dual)\n",
      "  File \"C:\\Users\\Administrator\\anaconda3\\lib\\site-packages\\sklearn\\linear_model\\_logistic.py\", line 447, in _check_solver\n",
      "    raise ValueError(\n",
      "ValueError: Solver newton-cg supports only 'l2' or 'none' penalties, got elasticnet penalty.\n",
      "\n",
      "--------------------------------------------------------------------------------\n",
      "540 fits failed with the following error:\n",
      "Traceback (most recent call last):\n",
      "  File \"C:\\Users\\Administrator\\anaconda3\\lib\\site-packages\\sklearn\\model_selection\\_validation.py\", line 680, in _fit_and_score\n",
      "    estimator.fit(X_train, y_train, **fit_params)\n",
      "  File \"C:\\Users\\Administrator\\anaconda3\\lib\\site-packages\\sklearn\\linear_model\\_logistic.py\", line 1461, in fit\n",
      "    solver = _check_solver(self.solver, self.penalty, self.dual)\n",
      "  File \"C:\\Users\\Administrator\\anaconda3\\lib\\site-packages\\sklearn\\linear_model\\_logistic.py\", line 447, in _check_solver\n",
      "    raise ValueError(\n",
      "ValueError: Solver lbfgs supports only 'l2' or 'none' penalties, got elasticnet penalty.\n",
      "\n",
      "--------------------------------------------------------------------------------\n",
      "540 fits failed with the following error:\n",
      "Traceback (most recent call last):\n",
      "  File \"C:\\Users\\Administrator\\anaconda3\\lib\\site-packages\\sklearn\\model_selection\\_validation.py\", line 680, in _fit_and_score\n",
      "    estimator.fit(X_train, y_train, **fit_params)\n",
      "  File \"C:\\Users\\Administrator\\anaconda3\\lib\\site-packages\\sklearn\\linear_model\\_logistic.py\", line 1461, in fit\n",
      "    solver = _check_solver(self.solver, self.penalty, self.dual)\n",
      "  File \"C:\\Users\\Administrator\\anaconda3\\lib\\site-packages\\sklearn\\linear_model\\_logistic.py\", line 447, in _check_solver\n",
      "    raise ValueError(\n",
      "ValueError: Solver sag supports only 'l2' or 'none' penalties, got elasticnet penalty.\n",
      "\n",
      "--------------------------------------------------------------------------------\n",
      "540 fits failed with the following error:\n",
      "Traceback (most recent call last):\n",
      "  File \"C:\\Users\\Administrator\\anaconda3\\lib\\site-packages\\sklearn\\model_selection\\_validation.py\", line 680, in _fit_and_score\n",
      "    estimator.fit(X_train, y_train, **fit_params)\n",
      "  File \"C:\\Users\\Administrator\\anaconda3\\lib\\site-packages\\sklearn\\linear_model\\_logistic.py\", line 1461, in fit\n",
      "    solver = _check_solver(self.solver, self.penalty, self.dual)\n",
      "  File \"C:\\Users\\Administrator\\anaconda3\\lib\\site-packages\\sklearn\\linear_model\\_logistic.py\", line 447, in _check_solver\n",
      "    raise ValueError(\n",
      "ValueError: Solver newton-cg supports only 'l2' or 'none' penalties, got l1 penalty.\n",
      "\n",
      "--------------------------------------------------------------------------------\n",
      "540 fits failed with the following error:\n",
      "Traceback (most recent call last):\n",
      "  File \"C:\\Users\\Administrator\\anaconda3\\lib\\site-packages\\sklearn\\model_selection\\_validation.py\", line 680, in _fit_and_score\n",
      "    estimator.fit(X_train, y_train, **fit_params)\n",
      "  File \"C:\\Users\\Administrator\\anaconda3\\lib\\site-packages\\sklearn\\linear_model\\_logistic.py\", line 1461, in fit\n",
      "    solver = _check_solver(self.solver, self.penalty, self.dual)\n",
      "  File \"C:\\Users\\Administrator\\anaconda3\\lib\\site-packages\\sklearn\\linear_model\\_logistic.py\", line 447, in _check_solver\n",
      "    raise ValueError(\n",
      "ValueError: Solver lbfgs supports only 'l2' or 'none' penalties, got l1 penalty.\n",
      "\n",
      "--------------------------------------------------------------------------------\n",
      "540 fits failed with the following error:\n",
      "Traceback (most recent call last):\n",
      "  File \"C:\\Users\\Administrator\\anaconda3\\lib\\site-packages\\sklearn\\model_selection\\_validation.py\", line 680, in _fit_and_score\n",
      "    estimator.fit(X_train, y_train, **fit_params)\n",
      "  File \"C:\\Users\\Administrator\\anaconda3\\lib\\site-packages\\sklearn\\linear_model\\_logistic.py\", line 1461, in fit\n",
      "    solver = _check_solver(self.solver, self.penalty, self.dual)\n",
      "  File \"C:\\Users\\Administrator\\anaconda3\\lib\\site-packages\\sklearn\\linear_model\\_logistic.py\", line 447, in _check_solver\n",
      "    raise ValueError(\n",
      "ValueError: Solver sag supports only 'l2' or 'none' penalties, got l1 penalty.\n",
      "\n",
      "  warnings.warn(some_fits_failed_message, FitFailedWarning)\n",
      "C:\\Users\\Administrator\\anaconda3\\lib\\site-packages\\sklearn\\model_selection\\_search.py:969: UserWarning: One or more of the test scores are non-finite: [       nan        nan        nan        nan 0.                nan\n",
      "        nan        nan 0.         0.00758756 0.01448417 0.\n",
      " 0.         0.28386712 0.27606359 0.00129032        nan        nan\n",
      "        nan        nan 0.                nan        nan        nan\n",
      " 0.         0.00758756 0.00758756 0.00129032 0.00129032 0.28386712\n",
      " 0.28789304 0.00481067        nan        nan        nan        nan\n",
      " 0.                nan        nan        nan 0.00129032 0.00758756\n",
      " 0.00758756 0.0037057  0.00129032 0.28386712 0.28850823 0.03435383\n",
      "        nan        nan        nan        nan 0.                nan\n",
      "        nan        nan 0.00129032 0.00758756 0.00758756 0.0060227\n",
      " 0.00481067 0.28386712 0.28850823 0.06514127        nan        nan\n",
      "        nan        nan 0.                nan        nan        nan\n",
      " 0.00251732 0.00758756 0.00758756 0.00965227 0.01524984 0.28386712\n",
      " 0.28850823 0.09656793        nan        nan        nan        nan\n",
      " 0.                nan        nan        nan 0.0037057  0.00758756\n",
      " 0.00758756 0.01208481 0.03437547 0.28386712 0.28850823 0.12446567\n",
      "        nan        nan        nan        nan 0.                nan\n",
      "        nan        nan 0.0037057  0.00758756 0.00758756 0.0132544\n",
      " 0.04814195 0.28386712 0.28850823 0.14685309        nan        nan\n",
      "        nan        nan 0.                nan        nan        nan\n",
      " 0.00481067 0.00758756 0.00758756 0.0132476  0.06515487 0.28386712\n",
      " 0.28850823 0.16565427        nan        nan        nan        nan\n",
      " 0.                nan        nan        nan 0.0084778  0.00758756\n",
      " 0.00758756 0.0132476  0.08417964 0.28386712 0.28850823 0.17618374\n",
      "        nan        nan        nan        nan 0.                nan\n",
      "        nan        nan 0.         0.192391   0.20083814 0.00129032\n",
      " 0.         0.28386712 0.27606359 0.00129032        nan        nan\n",
      "        nan        nan 0.                nan        nan        nan\n",
      " 0.00129032 0.192391   0.20230102 0.0037057  0.00129032 0.28386712\n",
      " 0.28789304 0.00481067        nan        nan        nan        nan\n",
      " 0.00129032        nan        nan        nan 0.00129032 0.192391\n",
      " 0.20136526 0.02670623 0.00129032 0.28386712 0.28850823 0.03435383\n",
      "        nan        nan        nan        nan 0.00127389        nan\n",
      "        nan        nan 0.0037057  0.192391   0.20136526 0.05444745\n",
      " 0.00481067 0.28386712 0.28850823 0.06618172        nan        nan\n",
      "        nan        nan 0.0059868         nan        nan        nan\n",
      " 0.01311073 0.192391   0.20136526 0.08338103 0.01527048 0.28386712\n",
      " 0.28850823 0.09656793        nan        nan        nan        nan\n",
      " 0.01203342        nan        nan        nan 0.02670623 0.192391\n",
      " 0.20136526 0.10256757 0.03437547 0.28386712 0.28850823 0.12446567\n",
      "        nan        nan        nan        nan 0.01759045        nan\n",
      "        nan        nan 0.0451918  0.192391   0.20136526 0.1184203\n",
      " 0.04814195 0.28386712 0.28850823 0.14685309        nan        nan\n",
      "        nan        nan 0.02631001        nan        nan        nan\n",
      " 0.05444745 0.192391   0.20136526 0.13652799 0.06515487 0.28386712\n",
      " 0.28850823 0.16565427        nan        nan        nan        nan\n",
      " 0.03627757        nan        nan        nan 0.06742979 0.192391\n",
      " 0.20136526 0.14651351 0.08417964 0.28386712 0.28850823 0.17625275\n",
      "        nan        nan        nan        nan 0.                nan\n",
      "        nan        nan 0.         0.27156402 0.26510876 0.00129032\n",
      " 0.         0.28386712 0.27606359 0.00129032        nan        nan\n",
      "        nan        nan 0.00129032        nan        nan        nan\n",
      " 0.00129032 0.27156402 0.27621102 0.00481067 0.00129032 0.28386712\n",
      " 0.28789304 0.00481067        nan        nan        nan        nan\n",
      " 0.00129032        nan        nan        nan 0.00129032 0.27156402\n",
      " 0.27621102 0.03437547 0.00129032 0.28386712 0.28850823 0.03435383\n",
      "        nan        nan        nan        nan 0.0037057         nan\n",
      "        nan        nan 0.00481067 0.27156402 0.27621102 0.06518726\n",
      " 0.00481067 0.28386712 0.28850823 0.06515487        nan        nan\n",
      "        nan        nan 0.01308671        nan        nan        nan\n",
      " 0.01413419 0.27156402 0.27621102 0.09668478 0.01524984 0.28386712\n",
      " 0.28850823 0.09656793        nan        nan        nan        nan\n",
      " 0.03095575        nan        nan        nan 0.03440577 0.27156402\n",
      " 0.27621102 0.12186545 0.03437547 0.28386712 0.28850823 0.12446567\n",
      "        nan        nan        nan        nan 0.0450139         nan\n",
      "        nan        nan 0.04817502 0.27156402 0.27621102 0.14406865\n",
      " 0.04814195 0.28386712 0.28850823 0.14685309        nan        nan\n",
      "        nan        nan 0.05882159        nan        nan        nan\n",
      " 0.06518726 0.27156402 0.27621102 0.16322055 0.06515487 0.28386712\n",
      " 0.28850823 0.16565427        nan        nan        nan        nan\n",
      " 0.07930002        nan        nan        nan 0.08323343 0.27156402\n",
      " 0.27621102 0.1744673  0.08417964 0.28386712 0.28850823 0.17618374\n",
      "        nan        nan        nan        nan 0.                nan\n",
      "        nan        nan 0.         0.28307431 0.28152651 0.00129032\n",
      " 0.         0.28386712 0.27606359 0.00129032        nan        nan\n",
      "        nan        nan 0.00129032        nan        nan        nan\n",
      " 0.00129032 0.28307431 0.28571791 0.00481067 0.00129032 0.28386712\n",
      " 0.28789304 0.00481067        nan        nan        nan        nan\n",
      " 0.00129032        nan        nan        nan 0.00129032 0.28307431\n",
      " 0.28420585 0.03437547 0.00129032 0.28386712 0.28850823 0.03435383\n",
      "        nan        nan        nan        nan 0.00481067        nan\n",
      "        nan        nan 0.00481067 0.28307431 0.28296562 0.06515487\n",
      " 0.00481067 0.28386712 0.28850823 0.06515487        nan        nan\n",
      "        nan        nan 0.01413419        nan        nan        nan\n",
      " 0.01524984 0.28307431 0.28296562 0.09656793 0.01411355 0.28386712\n",
      " 0.28850823 0.09656793        nan        nan        nan        nan\n",
      " 0.03437547        nan        nan        nan 0.03437547 0.28307431\n",
      " 0.28296562 0.12453773 0.03437547 0.28386712 0.28850823 0.12446567\n",
      "        nan        nan        nan        nan 0.04814195        nan\n",
      "        nan        nan 0.04814195 0.28307431 0.28296562 0.14685309\n",
      " 0.04814195 0.28386712 0.28850823 0.14685309        nan        nan\n",
      "        nan        nan 0.06518726        nan        nan        nan\n",
      " 0.06515487 0.28307431 0.28296562 0.16571993 0.06515487 0.28386712\n",
      " 0.28850823 0.16565427        nan        nan        nan        nan\n",
      " 0.08422716        nan        nan        nan 0.08417964 0.28307431\n",
      " 0.28296562 0.17625275 0.08417964 0.28386712 0.28850823 0.17618374\n",
      "        nan        nan        nan        nan 0.                nan\n",
      "        nan        nan 0.         0.28386712 0.28057466 0.00129032\n",
      " 0.         0.28386712 0.27606359 0.00129032        nan        nan\n",
      "        nan        nan 0.00129032        nan        nan        nan\n",
      " 0.00129032 0.28386712 0.2901243  0.00481067 0.00129032 0.28386712\n",
      " 0.28789304 0.00481067        nan        nan        nan        nan\n",
      " 0.00129032        nan        nan        nan 0.00129032 0.28386712\n",
      " 0.28873446 0.03435383 0.00129032 0.28386712 0.28850823 0.03437547\n",
      "        nan        nan        nan        nan 0.00481067        nan\n",
      "        nan        nan 0.00481067 0.28386712 0.28873446 0.06514127\n",
      " 0.00481067 0.28386712 0.28850823 0.06514127        nan        nan\n",
      "        nan        nan 0.01524984        nan        nan        nan\n",
      " 0.01524984 0.28386712 0.28873446 0.09656793 0.01524984 0.28386712\n",
      " 0.28850823 0.09656793        nan        nan        nan        nan\n",
      " 0.03437547        nan        nan        nan 0.03437547 0.28386712\n",
      " 0.28873446 0.12453773 0.03437547 0.28386712 0.28850823 0.12453773\n",
      "        nan        nan        nan        nan 0.04814195        nan\n",
      "        nan        nan 0.04814195 0.28386712 0.28873446 0.14685309\n",
      " 0.04814195 0.28386712 0.28850823 0.14685309        nan        nan\n",
      "        nan        nan 0.06515487        nan        nan        nan\n",
      " 0.06515487 0.28386712 0.28873446 0.16565427 0.06515487 0.28386712\n",
      " 0.28850823 0.16565427        nan        nan        nan        nan\n",
      " 0.08417964        nan        nan        nan 0.08417964 0.28386712\n",
      " 0.28873446 0.17625275 0.08417964 0.28386712 0.28850823 0.17625275\n",
      "        nan        nan        nan        nan 0.                nan\n",
      "        nan        nan 0.         0.28386712 0.27592818 0.00129032\n",
      " 0.         0.28386712 0.27606359 0.00129032        nan        nan\n",
      "        nan        nan 0.00129032        nan        nan        nan\n",
      " 0.00129032 0.28386712 0.29132746 0.00481067 0.00129032 0.28386712\n",
      " 0.28789304 0.00481067        nan        nan        nan        nan\n",
      " 0.00129032        nan        nan        nan 0.00129032 0.28386712\n",
      " 0.29132746 0.03435383 0.00129032 0.28386712 0.28850823 0.03437547\n",
      "        nan        nan        nan        nan 0.00481067        nan\n",
      "        nan        nan 0.00481067 0.28386712 0.29132746 0.06514127\n",
      " 0.00481067 0.28386712 0.28850823 0.06515487        nan        nan\n",
      "        nan        nan 0.01524984        nan        nan        nan\n",
      " 0.01524984 0.28386712 0.29132746 0.09656793 0.01527048 0.28386712\n",
      " 0.28850823 0.09656793        nan        nan        nan        nan\n",
      " 0.03437547        nan        nan        nan 0.03437547 0.28386712\n",
      " 0.29132746 0.12446567 0.03437547 0.28386712 0.28850823 0.12453773\n",
      "        nan        nan        nan        nan 0.04814195        nan\n",
      "        nan        nan 0.04814195 0.28386712 0.29132746 0.14685309\n",
      " 0.04814195 0.28386712 0.28850823 0.14685309        nan        nan\n",
      "        nan        nan 0.06515487        nan        nan        nan\n",
      " 0.06515487 0.28386712 0.29132746 0.16565427 0.06515487 0.28386712\n",
      " 0.28850823 0.16565427        nan        nan        nan        nan\n",
      " 0.08417964        nan        nan        nan 0.08417964 0.28386712\n",
      " 0.29132746 0.17618374 0.08417964 0.28386712 0.28850823 0.17625275]\n",
      "  warnings.warn(\n"
     ]
    },
    {
     "data": {
      "text/plain": [
       "GridSearchCV(cv=KFold(n_splits=10, random_state=0, shuffle=True),\n",
       "             estimator=LogisticRegression(), n_jobs=-1,\n",
       "             param_grid={'C': [0.001, 0.01, 0.1, 1, 10, 100],\n",
       "                         'max_iter': range(50, 500, 50),\n",
       "                         'penalty': ['elasticnet', 'l1', 'l2', 'none'],\n",
       "                         'solver': ['saga', 'newton-cg', 'lbfgs', 'sag']},\n",
       "             scoring='f1', verbose=3)"
      ]
     },
     "execution_count": 34,
     "metadata": {},
     "output_type": "execute_result"
    }
   ],
   "source": [
    "lr_grid_search.fit(X_train, y_train)"
   ]
  },
  {
   "cell_type": "code",
   "execution_count": 35,
   "id": "330543b5",
   "metadata": {},
   "outputs": [
    {
     "data": {
      "text/plain": [
       "LogisticRegression(C=100)"
      ]
     },
     "execution_count": 35,
     "metadata": {},
     "output_type": "execute_result"
    }
   ],
   "source": [
    "lr_grid_search.best_estimator_"
   ]
  },
  {
   "cell_type": "code",
   "execution_count": 36,
   "id": "4ea8bad4",
   "metadata": {},
   "outputs": [],
   "source": [
    "best_lr_clf = LogisticRegression(C=100)"
   ]
  },
  {
   "cell_type": "code",
   "execution_count": 37,
   "id": "5b39059c",
   "metadata": {},
   "outputs": [
    {
     "data": {
      "text/plain": [
       "LogisticRegression(C=100)"
      ]
     },
     "execution_count": 37,
     "metadata": {},
     "output_type": "execute_result"
    }
   ],
   "source": [
    "best_lr_clf.fit(X_train, y_train)"
   ]
  },
  {
   "cell_type": "code",
   "execution_count": 38,
   "id": "79746e73",
   "metadata": {},
   "outputs": [],
   "source": [
    "best_lr_pred_y = best_lr_clf.predict(X_test)"
   ]
  },
  {
   "cell_type": "markdown",
   "id": "6ad1f4b7",
   "metadata": {},
   "source": [
    "## Random Forest"
   ]
  },
  {
   "cell_type": "code",
   "execution_count": 39,
   "id": "2c36b7dc",
   "metadata": {},
   "outputs": [],
   "source": [
    "from sklearn.ensemble import RandomForestClassifier\n",
    "\n",
    "rf_clf = RandomForestClassifier()"
   ]
  },
  {
   "cell_type": "code",
   "execution_count": 40,
   "id": "32389ecd",
   "metadata": {},
   "outputs": [
    {
     "data": {
      "text/plain": [
       "RandomForestClassifier()"
      ]
     },
     "execution_count": 40,
     "metadata": {},
     "output_type": "execute_result"
    }
   ],
   "source": [
    "rf_clf.fit(X_train, y_train)"
   ]
  },
  {
   "cell_type": "code",
   "execution_count": 41,
   "id": "e2462728",
   "metadata": {},
   "outputs": [],
   "source": [
    "rf_pred_y = rf_clf.predict(X_test)"
   ]
  },
  {
   "cell_type": "markdown",
   "id": "45fd91b5",
   "metadata": {},
   "source": [
    "### Grid search for best parameters"
   ]
  },
  {
   "cell_type": "code",
   "execution_count": 42,
   "id": "2c9d5325",
   "metadata": {},
   "outputs": [],
   "source": [
    "rf_grid_params ={ \n",
    "\n",
    "    'n_estimators': range(100, 501, 50),\n",
    "    'criterion':['gini', 'log_loss', 'entropy'],\n",
    "    'min_samples_split':range(2,11,1),\n",
    "    'max_depth':range(2,11,1)\n",
    "    \n",
    "}"
   ]
  },
  {
   "cell_type": "code",
   "execution_count": 43,
   "id": "f3e9fcd6",
   "metadata": {},
   "outputs": [],
   "source": [
    "rf_grid_search = GridSearchCV(RandomForestClassifier(), rf_grid_params, scoring='f1', n_jobs=-1, cv=kfold, verbose = 3 )"
   ]
  },
  {
   "cell_type": "code",
   "execution_count": 44,
   "id": "bf21902d",
   "metadata": {},
   "outputs": [
    {
     "name": "stdout",
     "output_type": "stream",
     "text": [
      "Fitting 10 folds for each of 2187 candidates, totalling 21870 fits\n"
     ]
    },
    {
     "name": "stderr",
     "output_type": "stream",
     "text": [
      "C:\\Users\\Administrator\\anaconda3\\lib\\site-packages\\sklearn\\model_selection\\_validation.py:372: FitFailedWarning: \n",
      "7290 fits failed out of a total of 21870.\n",
      "The score on these train-test partitions for these parameters will be set to nan.\n",
      "If these failures are not expected, you can try to debug them by setting error_score='raise'.\n",
      "\n",
      "Below are more details about the failures:\n",
      "--------------------------------------------------------------------------------\n",
      "7290 fits failed with the following error:\n",
      "Traceback (most recent call last):\n",
      "  File \"C:\\Users\\Administrator\\anaconda3\\lib\\site-packages\\sklearn\\model_selection\\_validation.py\", line 680, in _fit_and_score\n",
      "    estimator.fit(X_train, y_train, **fit_params)\n",
      "  File \"C:\\Users\\Administrator\\anaconda3\\lib\\site-packages\\sklearn\\ensemble\\_forest.py\", line 450, in fit\n",
      "    trees = Parallel(\n",
      "  File \"C:\\Users\\Administrator\\anaconda3\\lib\\site-packages\\joblib\\parallel.py\", line 1043, in __call__\n",
      "    if self.dispatch_one_batch(iterator):\n",
      "  File \"C:\\Users\\Administrator\\anaconda3\\lib\\site-packages\\joblib\\parallel.py\", line 861, in dispatch_one_batch\n",
      "    self._dispatch(tasks)\n",
      "  File \"C:\\Users\\Administrator\\anaconda3\\lib\\site-packages\\joblib\\parallel.py\", line 779, in _dispatch\n",
      "    job = self._backend.apply_async(batch, callback=cb)\n",
      "  File \"C:\\Users\\Administrator\\anaconda3\\lib\\site-packages\\joblib\\_parallel_backends.py\", line 208, in apply_async\n",
      "    result = ImmediateResult(func)\n",
      "  File \"C:\\Users\\Administrator\\anaconda3\\lib\\site-packages\\joblib\\_parallel_backends.py\", line 572, in __init__\n",
      "    self.results = batch()\n",
      "  File \"C:\\Users\\Administrator\\anaconda3\\lib\\site-packages\\joblib\\parallel.py\", line 262, in __call__\n",
      "    return [func(*args, **kwargs)\n",
      "  File \"C:\\Users\\Administrator\\anaconda3\\lib\\site-packages\\joblib\\parallel.py\", line 262, in <listcomp>\n",
      "    return [func(*args, **kwargs)\n",
      "  File \"C:\\Users\\Administrator\\anaconda3\\lib\\site-packages\\sklearn\\utils\\fixes.py\", line 216, in __call__\n",
      "    return self.function(*args, **kwargs)\n",
      "  File \"C:\\Users\\Administrator\\anaconda3\\lib\\site-packages\\sklearn\\ensemble\\_forest.py\", line 185, in _parallel_build_trees\n",
      "    tree.fit(X, y, sample_weight=curr_sample_weight, check_input=False)\n",
      "  File \"C:\\Users\\Administrator\\anaconda3\\lib\\site-packages\\sklearn\\tree\\_classes.py\", line 937, in fit\n",
      "    super().fit(\n",
      "  File \"C:\\Users\\Administrator\\anaconda3\\lib\\site-packages\\sklearn\\tree\\_classes.py\", line 352, in fit\n",
      "    criterion = CRITERIA_CLF[self.criterion](\n",
      "KeyError: 'log_loss'\n",
      "\n",
      "  warnings.warn(some_fits_failed_message, FitFailedWarning)\n",
      "C:\\Users\\Administrator\\anaconda3\\lib\\site-packages\\sklearn\\model_selection\\_search.py:969: UserWarning: One or more of the test scores are non-finite: [0.13576586 0.13400288 0.13937768 ... 0.55904035 0.56690597 0.56552972]\n",
      "  warnings.warn(\n"
     ]
    },
    {
     "data": {
      "text/plain": [
       "GridSearchCV(cv=KFold(n_splits=10, random_state=0, shuffle=True),\n",
       "             estimator=RandomForestClassifier(), n_jobs=-1,\n",
       "             param_grid={'criterion': ['gini', 'log_loss', 'entropy'],\n",
       "                         'max_depth': range(2, 11),\n",
       "                         'min_samples_split': range(2, 11),\n",
       "                         'n_estimators': range(100, 501, 50)},\n",
       "             scoring='f1', verbose=3)"
      ]
     },
     "execution_count": 44,
     "metadata": {},
     "output_type": "execute_result"
    }
   ],
   "source": [
    "rf_grid_search.fit(X_train, y_train)"
   ]
  },
  {
   "cell_type": "code",
   "execution_count": 45,
   "id": "c15b6980",
   "metadata": {},
   "outputs": [
    {
     "data": {
      "text/plain": [
       "RandomForestClassifier(max_depth=10, min_samples_split=6)"
      ]
     },
     "execution_count": 45,
     "metadata": {},
     "output_type": "execute_result"
    }
   ],
   "source": [
    "rf_grid_search.best_estimator_"
   ]
  },
  {
   "cell_type": "code",
   "execution_count": 46,
   "id": "ed3d04bf",
   "metadata": {},
   "outputs": [],
   "source": [
    "best_rf_clf = RandomForestClassifier(max_depth=10, min_samples_split=6, n_estimators=150)"
   ]
  },
  {
   "cell_type": "code",
   "execution_count": 47,
   "id": "7ef5e466",
   "metadata": {},
   "outputs": [
    {
     "data": {
      "text/plain": [
       "RandomForestClassifier(max_depth=10, min_samples_split=8, n_estimators=150)"
      ]
     },
     "execution_count": 47,
     "metadata": {},
     "output_type": "execute_result"
    }
   ],
   "source": [
    "best_rf_clf.fit(X_train, y_train)"
   ]
  },
  {
   "cell_type": "code",
   "execution_count": 48,
   "id": "63973bb5",
   "metadata": {},
   "outputs": [],
   "source": [
    "best_rf_pred_y = best_rf_clf.predict(X_test)"
   ]
  },
  {
   "cell_type": "markdown",
   "id": "b1fc8ec8",
   "metadata": {},
   "source": [
    "# Performance Evaluation"
   ]
  },
  {
   "cell_type": "code",
   "execution_count": 49,
   "id": "d9bfde8a",
   "metadata": {},
   "outputs": [],
   "source": [
    "from sklearn.metrics import accuracy_score, precision_score, f1_score, recall_score"
   ]
  },
  {
   "cell_type": "code",
   "execution_count": 50,
   "id": "6c680165",
   "metadata": {},
   "outputs": [],
   "source": [
    "def calculate_metrics(estimator,y_true, y_pred):\n",
    "    results = pd.DataFrame([[estimator, accuracy_score(y_true, y_pred), precision_score(y_true, y_pred),\n",
    "                  f1_score(y_true, y_pred), recall_score(y_true, y_pred)]], \n",
    "                 columns=['Model', 'accuracy_score', 'precision_score', 'f1_score', 'recall_score'])\n",
    "    print(results)\n",
    "    return results\n",
    "    "
   ]
  },
  {
   "cell_type": "code",
   "execution_count": 51,
   "id": "fd702741",
   "metadata": {},
   "outputs": [
    {
     "name": "stdout",
     "output_type": "stream",
     "text": [
      "                    Model  accuracy_score  precision_score  f1_score  \\\n",
      "0  BestLogisticRegression          0.8115         0.529412   0.22268   \n",
      "\n",
      "   recall_score  \n",
      "0      0.140992  \n",
      "                Model  accuracy_score  precision_score  f1_score  recall_score\n",
      "0  LogisticRegression          0.8115         0.529412   0.22268      0.140992\n"
     ]
    }
   ],
   "source": [
    "best_lr_results = calculate_metrics('BestLogisticRegression', y_test, best_lr_pred_y)\n",
    "lr_results = calculate_metrics('LogisticRegression', y_test, lr_pred_y)"
   ]
  },
  {
   "cell_type": "code",
   "execution_count": 52,
   "id": "df6c21c8",
   "metadata": {},
   "outputs": [
    {
     "name": "stdout",
     "output_type": "stream",
     "text": [
      "  Model  accuracy_score  precision_score  f1_score  recall_score\n",
      "0    RF           0.858         0.734597  0.521886        0.4047\n",
      "     Model  accuracy_score  precision_score  f1_score  recall_score\n",
      "0  Best RF          0.8615         0.791209  0.509735      0.375979\n"
     ]
    }
   ],
   "source": [
    "rf_results = calculate_metrics('RF', y_test, rf_pred_y)\n",
    "best_rf_results = calculate_metrics('Best RF', y_test, best_rf_pred_y)"
   ]
  }
 ],
 "metadata": {
  "kernelspec": {
   "display_name": "Python 3 (ipykernel)",
   "language": "python",
   "name": "python3"
  },
  "language_info": {
   "codemirror_mode": {
    "name": "ipython",
    "version": 3
   },
   "file_extension": ".py",
   "mimetype": "text/x-python",
   "name": "python",
   "nbconvert_exporter": "python",
   "pygments_lexer": "ipython3",
   "version": "3.9.12"
  }
 },
 "nbformat": 4,
 "nbformat_minor": 5
}
