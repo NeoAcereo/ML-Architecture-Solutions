{
 "cells": [
  {
   "cell_type": "code",
   "execution_count": 1,
   "id": "bdc93f9b",
   "metadata": {},
   "outputs": [],
   "source": [
    "from importlib import import_module\n",
    "\n",
    "lib_names = [('pandas', 'pd'), ('numpy', 'np'), ('matplotlib.pyplot','plt'), ('seaborn','sns')]\n",
    "for (lib_name, short_hand) in lib_names:\n",
    "    try:\n",
    "        lib = import_module(lib_name)\n",
    "    except:\n",
    "        print(sys.exc_info())\n",
    "    else:\n",
    "        globals()[short_hand] = lib"
   ]
  },
  {
   "cell_type": "code",
   "execution_count": 2,
   "id": "429d4aa0",
   "metadata": {},
   "outputs": [],
   "source": [
    "filename = 'https://github.com/lmassaron/datasets/'\n",
    "filename += 'releases/download/1.0/wine_quality.feather'\n",
    "wine = pd.read_feather(filename)\n",
    "\n",
    "\n",
    "np.random.seed(42)\n",
    "train = (wine.groupby('quality')\n",
    "             .apply(lambda x: x.sample(frac=.7))\n",
    "             .reset_index(drop=True))\n",
    "\n",
    "test = wine[~wine.index.isin(train.index)]\n",
    "\n",
    "X_train = train.iloc[:,1:]\n",
    "y_train = train.iloc[:,0]\n",
    "\n",
    "X_test = test.iloc[:,1:]\n",
    "y_test = test.iloc[:,0]"
   ]
  },
  {
   "cell_type": "code",
   "execution_count": 3,
   "id": "7179f92c",
   "metadata": {},
   "outputs": [],
   "source": [
    "import numpy as np\n",
    "from sklearn.ensemble import AdaBoostRegressor\n",
    "from sklearn.tree import DecisionTreeRegressor\n",
    "from sklearn.linear_model import Ridge\n",
    "from sklearn.neighbors import KNeighborsRegressor\n",
    "from sklearn.pipeline import Pipeline\n",
    "from sklearn.compose import ColumnTransformer\n",
    "from sklearn.impute import SimpleImputer\n",
    "from sklearn.preprocessing import StandardScaler\n",
    "\n",
    "numerical_columns = ['fixed acidity', 'volatile acidity',  'citric acid',\\\n",
    "                     'residual sugar', 'chlorides', 'free sulfur dioxide', 'total sulfur dioxide',\\\n",
    "                     'density', 'pH', 'sulphates', 'alcohol']\n",
    "\n",
    "categorical_columns = ['red_wine']\n",
    "\n",
    "numerical_pipe = Pipeline([\n",
    "    ('imputing', SimpleImputer()),\n",
    "    ('scaling', StandardScaler())\n",
    "    \n",
    "])\n",
    "\n",
    "categorical_pipe = Pipeline([\n",
    "    ('imputing', SimpleImputer(strategy='most_frequent'))\n",
    "])\n",
    "\n",
    "preprocessing = ColumnTransformer([\n",
    "    ('cat', categorical_pipe, categorical_columns),\n",
    "    ('num', numerical_pipe, numerical_columns)\n",
    "])\n",
    "\n",
    "\n",
    "\n",
    "decision_tree = DecisionTreeRegressor(max_depth=14)\n",
    "ridge_regression = Ridge(alpha=1.0)\n",
    "k_nearest_neighbor = KNeighborsRegressor(n_neighbors=1)\n",
    "\n",
    "\n",
    "\n",
    "model_labels = ['Decision tree', 'Ridge regression', 'KNN']\n",
    "models = [decision_tree, ridge_regression, k_nearest_neighbor]\n",
    "\n",
    "\n",
    "pipes = dict()\n",
    "    \n",
    "for model_label, model in zip(model_labels, models):\n",
    "    pipes[model_label] = Pipeline([\n",
    "    ('preprocessing', preprocessing),\n",
    "    ('regressor', AdaBoostRegressor(model, n_estimators=300, random_state=42))])"
   ]
  },
  {
   "cell_type": "code",
   "execution_count": 4,
   "id": "3fda7644",
   "metadata": {},
   "outputs": [
    {
     "name": "stdout",
     "output_type": "stream",
     "text": [
      "test mae for Decision tree: 0.151\n",
      "test mae for Ridge regression: 0.553\n",
      "test mae for KNN: 0.139\n"
     ]
    }
   ],
   "source": [
    "from sklearn.metrics import mean_absolute_error\n",
    "\n",
    "for ada_model in pipes:\n",
    "    pipes[ada_model].fit(X_train, y_train)\n",
    "    preds = pipes[ada_model].predict(X_test)\n",
    "    mae = mean_absolute_error(y_test, preds)\n",
    "    print(f\"test mae for {ada_model}: {mae:0.3}\")"
   ]
  }
 ],
 "metadata": {
  "kernelspec": {
   "display_name": "Python 3 (ipykernel)",
   "language": "python",
   "name": "python3"
  },
  "language_info": {
   "codemirror_mode": {
    "name": "ipython",
    "version": 3
   },
   "file_extension": ".py",
   "mimetype": "text/x-python",
   "name": "python",
   "nbconvert_exporter": "python",
   "pygments_lexer": "ipython3",
   "version": "3.9.12"
  }
 },
 "nbformat": 4,
 "nbformat_minor": 5
}
